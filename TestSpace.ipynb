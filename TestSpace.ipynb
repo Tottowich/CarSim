{
 "cells": [
  {
   "cell_type": "code",
   "execution_count": 2,
   "metadata": {},
   "outputs": [
    {
     "name": "stdout",
     "output_type": "stream",
     "text": [
      "2.0.0.dev20230226\n",
      "tensor([1.], device='mps:0')\n"
     ]
    }
   ],
   "source": [
    "import torch # Verify that MPS is availabe on M1 Mac\n",
    "print(torch.__version__)\n",
    "if torch.backends.mps.is_available():\n",
    "    mps_device = torch.device(\"mps\")\n",
    "    x = torch.ones(1, device=mps_device)\n",
    "    print(x)\n",
    "else:\n",
    "    print (\"MPS device not found.\")"
   ]
  },
  {
   "cell_type": "code",
   "execution_count": 13,
   "metadata": {},
   "outputs": [],
   "source": [
    "import torch as T\n",
    "import torch.nn as nn\n",
    "import torch.nn.functional as F\n",
    "device = torch.device(\"cpu\")"
   ]
  },
  {
   "cell_type": "code",
   "execution_count": 14,
   "metadata": {},
   "outputs": [
    {
     "name": "stdout",
     "output_type": "stream",
     "text": [
      "89.4 ms ± 10.4 ms per loop (mean ± std. dev. of 7 runs, 10 loops each)\n"
     ]
    }
   ],
   "source": [
    "%%timeit\n",
    "x = T.randn(1000, 1000, device=device)\n",
    "y = T.randn(1000, 1000, device=device)\n",
    "z = T.matmul(x, y)"
   ]
  },
  {
   "cell_type": "code",
   "execution_count": 15,
   "metadata": {},
   "outputs": [
    {
     "name": "stderr",
     "output_type": "stream",
     "text": [
      "/Users/theodorjonsson/opt/anaconda3/envs/pt/lib/python3.9/site-packages/torchvision/models/_utils.py:208: UserWarning: The parameter 'pretrained' is deprecated since 0.13 and may be removed in the future, please use 'weights' instead.\n",
      "  warnings.warn(\n",
      "/Users/theodorjonsson/opt/anaconda3/envs/pt/lib/python3.9/site-packages/torchvision/models/_utils.py:223: UserWarning: Arguments other than a weight enum or `None` for 'weights' are deprecated since 0.13 and may be removed in the future. The current behavior is equivalent to passing `weights=ResNet18_Weights.IMAGENET1K_V1`. You can also use `weights=ResNet18_Weights.DEFAULT` to get the most up-to-date weights.\n",
      "  warnings.warn(msg)\n",
      "Downloading: \"https://download.pytorch.org/models/resnet18-f37072fd.pth\" to /Users/theodorjonsson/.cache/torch/hub/checkpoints/resnet18-f37072fd.pth\n",
      "100.0%\n"
     ]
    },
    {
     "data": {
      "text/plain": [
       "ResNet(\n",
       "  (conv1): Conv2d(3, 64, kernel_size=(7, 7), stride=(2, 2), padding=(3, 3), bias=False)\n",
       "  (bn1): BatchNorm2d(64, eps=1e-05, momentum=0.1, affine=True, track_running_stats=True)\n",
       "  (relu): ReLU(inplace=True)\n",
       "  (maxpool): MaxPool2d(kernel_size=3, stride=2, padding=1, dilation=1, ceil_mode=False)\n",
       "  (layer1): Sequential(\n",
       "    (0): BasicBlock(\n",
       "      (conv1): Conv2d(64, 64, kernel_size=(3, 3), stride=(1, 1), padding=(1, 1), bias=False)\n",
       "      (bn1): BatchNorm2d(64, eps=1e-05, momentum=0.1, affine=True, track_running_stats=True)\n",
       "      (relu): ReLU(inplace=True)\n",
       "      (conv2): Conv2d(64, 64, kernel_size=(3, 3), stride=(1, 1), padding=(1, 1), bias=False)\n",
       "      (bn2): BatchNorm2d(64, eps=1e-05, momentum=0.1, affine=True, track_running_stats=True)\n",
       "    )\n",
       "    (1): BasicBlock(\n",
       "      (conv1): Conv2d(64, 64, kernel_size=(3, 3), stride=(1, 1), padding=(1, 1), bias=False)\n",
       "      (bn1): BatchNorm2d(64, eps=1e-05, momentum=0.1, affine=True, track_running_stats=True)\n",
       "      (relu): ReLU(inplace=True)\n",
       "      (conv2): Conv2d(64, 64, kernel_size=(3, 3), stride=(1, 1), padding=(1, 1), bias=False)\n",
       "      (bn2): BatchNorm2d(64, eps=1e-05, momentum=0.1, affine=True, track_running_stats=True)\n",
       "    )\n",
       "  )\n",
       "  (layer2): Sequential(\n",
       "    (0): BasicBlock(\n",
       "      (conv1): Conv2d(64, 128, kernel_size=(3, 3), stride=(2, 2), padding=(1, 1), bias=False)\n",
       "      (bn1): BatchNorm2d(128, eps=1e-05, momentum=0.1, affine=True, track_running_stats=True)\n",
       "      (relu): ReLU(inplace=True)\n",
       "      (conv2): Conv2d(128, 128, kernel_size=(3, 3), stride=(1, 1), padding=(1, 1), bias=False)\n",
       "      (bn2): BatchNorm2d(128, eps=1e-05, momentum=0.1, affine=True, track_running_stats=True)\n",
       "      (downsample): Sequential(\n",
       "        (0): Conv2d(64, 128, kernel_size=(1, 1), stride=(2, 2), bias=False)\n",
       "        (1): BatchNorm2d(128, eps=1e-05, momentum=0.1, affine=True, track_running_stats=True)\n",
       "      )\n",
       "    )\n",
       "    (1): BasicBlock(\n",
       "      (conv1): Conv2d(128, 128, kernel_size=(3, 3), stride=(1, 1), padding=(1, 1), bias=False)\n",
       "      (bn1): BatchNorm2d(128, eps=1e-05, momentum=0.1, affine=True, track_running_stats=True)\n",
       "      (relu): ReLU(inplace=True)\n",
       "      (conv2): Conv2d(128, 128, kernel_size=(3, 3), stride=(1, 1), padding=(1, 1), bias=False)\n",
       "      (bn2): BatchNorm2d(128, eps=1e-05, momentum=0.1, affine=True, track_running_stats=True)\n",
       "    )\n",
       "  )\n",
       "  (layer3): Sequential(\n",
       "    (0): BasicBlock(\n",
       "      (conv1): Conv2d(128, 256, kernel_size=(3, 3), stride=(2, 2), padding=(1, 1), bias=False)\n",
       "      (bn1): BatchNorm2d(256, eps=1e-05, momentum=0.1, affine=True, track_running_stats=True)\n",
       "      (relu): ReLU(inplace=True)\n",
       "      (conv2): Conv2d(256, 256, kernel_size=(3, 3), stride=(1, 1), padding=(1, 1), bias=False)\n",
       "      (bn2): BatchNorm2d(256, eps=1e-05, momentum=0.1, affine=True, track_running_stats=True)\n",
       "      (downsample): Sequential(\n",
       "        (0): Conv2d(128, 256, kernel_size=(1, 1), stride=(2, 2), bias=False)\n",
       "        (1): BatchNorm2d(256, eps=1e-05, momentum=0.1, affine=True, track_running_stats=True)\n",
       "      )\n",
       "    )\n",
       "    (1): BasicBlock(\n",
       "      (conv1): Conv2d(256, 256, kernel_size=(3, 3), stride=(1, 1), padding=(1, 1), bias=False)\n",
       "      (bn1): BatchNorm2d(256, eps=1e-05, momentum=0.1, affine=True, track_running_stats=True)\n",
       "      (relu): ReLU(inplace=True)\n",
       "      (conv2): Conv2d(256, 256, kernel_size=(3, 3), stride=(1, 1), padding=(1, 1), bias=False)\n",
       "      (bn2): BatchNorm2d(256, eps=1e-05, momentum=0.1, affine=True, track_running_stats=True)\n",
       "    )\n",
       "  )\n",
       "  (layer4): Sequential(\n",
       "    (0): BasicBlock(\n",
       "      (conv1): Conv2d(256, 512, kernel_size=(3, 3), stride=(2, 2), padding=(1, 1), bias=False)\n",
       "      (bn1): BatchNorm2d(512, eps=1e-05, momentum=0.1, affine=True, track_running_stats=True)\n",
       "      (relu): ReLU(inplace=True)\n",
       "      (conv2): Conv2d(512, 512, kernel_size=(3, 3), stride=(1, 1), padding=(1, 1), bias=False)\n",
       "      (bn2): BatchNorm2d(512, eps=1e-05, momentum=0.1, affine=True, track_running_stats=True)\n",
       "      (downsample): Sequential(\n",
       "        (0): Conv2d(256, 512, kernel_size=(1, 1), stride=(2, 2), bias=False)\n",
       "        (1): BatchNorm2d(512, eps=1e-05, momentum=0.1, affine=True, track_running_stats=True)\n",
       "      )\n",
       "    )\n",
       "    (1): BasicBlock(\n",
       "      (conv1): Conv2d(512, 512, kernel_size=(3, 3), stride=(1, 1), padding=(1, 1), bias=False)\n",
       "      (bn1): BatchNorm2d(512, eps=1e-05, momentum=0.1, affine=True, track_running_stats=True)\n",
       "      (relu): ReLU(inplace=True)\n",
       "      (conv2): Conv2d(512, 512, kernel_size=(3, 3), stride=(1, 1), padding=(1, 1), bias=False)\n",
       "      (bn2): BatchNorm2d(512, eps=1e-05, momentum=0.1, affine=True, track_running_stats=True)\n",
       "    )\n",
       "  )\n",
       "  (avgpool): AdaptiveAvgPool2d(output_size=(1, 1))\n",
       "  (fc): Linear(in_features=512, out_features=1000, bias=True)\n",
       ")"
      ]
     },
     "execution_count": 15,
     "metadata": {},
     "output_type": "execute_result"
    }
   ],
   "source": [
    "# Import a model\n",
    "from torchvision import models\n",
    "model = models.resnet18(weights=True)\n",
    "model.eval()\n",
    "# Get number of parameters\n",
    "num_params = sum(p.numel() for p in model.parameters())\n",
    "print(f\"Number of parameters: {num_params:,}\")"
   ]
  },
  {
   "cell_type": "code",
   "execution_count": 27,
   "metadata": {},
   "outputs": [],
   "source": [
    "model = model.to(device)\n",
    "sample_input = T.randn(1, 3, 224, 224, device=device)\n",
    "compiled_model = T.compile(model)\n",
    "T._dynamo.config.suppress_errors = True"
   ]
  },
  {
   "cell_type": "code",
   "execution_count": 28,
   "metadata": {},
   "outputs": [
    {
     "name": "stderr",
     "output_type": "stream",
     "text": [
      "[2023-02-26 15:48:38,176] torch._dynamo.convert_frame: [ERROR] WON'T CONVERT forward /Users/theodorjonsson/opt/anaconda3/envs/pt/lib/python3.9/site-packages/torchvision/models/resnet.py line 284 \n",
      "due to: \n",
      "Traceback (most recent call last):\n",
      "  File \"/Users/theodorjonsson/opt/anaconda3/envs/pt/lib/python3.9/site-packages/torch/_inductor/codecache.py\", line 576, in load\n",
      "    from filelock import FileLock\n",
      "ModuleNotFoundError: No module named 'filelock'\n",
      "\n",
      "The above exception was the direct cause of the following exception:\n",
      "\n",
      "Traceback (most recent call last):\n",
      "  File \"/Users/theodorjonsson/opt/anaconda3/envs/pt/lib/python3.9/site-packages/torch/_dynamo/output_graph.py\", line 713, in call_user_compiler\n",
      "    raise BackendCompilerFailed(self.compiler_fn, e) from e\n",
      "torch._dynamo.exc.BackendCompilerFailed: debug_wrapper raised ModuleNotFoundError: No module named 'filelock'\n",
      "\n",
      "Set torch._dynamo.config.verbose=True for more information\n",
      "\n",
      "\n",
      "[2023-02-26 15:48:39,622] torch._dynamo.convert_frame: [ERROR] WON'T CONVERT _forward_impl /Users/theodorjonsson/opt/anaconda3/envs/pt/lib/python3.9/site-packages/torchvision/models/resnet.py line 266 \n",
      "due to: \n",
      "Traceback (most recent call last):\n",
      "  File \"/Users/theodorjonsson/opt/anaconda3/envs/pt/lib/python3.9/site-packages/torch/_inductor/codecache.py\", line 576, in load\n",
      "    from filelock import FileLock\n",
      "ModuleNotFoundError: No module named 'filelock'\n",
      "\n",
      "The above exception was the direct cause of the following exception:\n",
      "\n",
      "Traceback (most recent call last):\n",
      "  File \"/Users/theodorjonsson/opt/anaconda3/envs/pt/lib/python3.9/site-packages/torch/_dynamo/output_graph.py\", line 713, in call_user_compiler\n",
      "    raise BackendCompilerFailed(self.compiler_fn, e) from e\n",
      "torch._dynamo.exc.BackendCompilerFailed: debug_wrapper raised ModuleNotFoundError: No module named 'filelock'\n",
      "\n",
      "Set torch._dynamo.config.verbose=True for more information\n",
      "\n",
      "\n",
      "[2023-02-26 15:48:39,999] torch._dynamo.convert_frame: [ERROR] WON'T CONVERT forward /Users/theodorjonsson/opt/anaconda3/envs/pt/lib/python3.9/site-packages/torch/nn/modules/container.py line 215 \n",
      "due to: \n",
      "Traceback (most recent call last):\n",
      "  File \"/Users/theodorjonsson/opt/anaconda3/envs/pt/lib/python3.9/site-packages/torch/_inductor/codecache.py\", line 576, in load\n",
      "    from filelock import FileLock\n",
      "ModuleNotFoundError: No module named 'filelock'\n",
      "\n",
      "The above exception was the direct cause of the following exception:\n",
      "\n",
      "Traceback (most recent call last):\n",
      "  File \"/Users/theodorjonsson/opt/anaconda3/envs/pt/lib/python3.9/site-packages/torch/_dynamo/output_graph.py\", line 713, in call_user_compiler\n",
      "    raise BackendCompilerFailed(self.compiler_fn, e) from e\n",
      "torch._dynamo.exc.BackendCompilerFailed: debug_wrapper raised ModuleNotFoundError: No module named 'filelock'\n",
      "\n",
      "Set torch._dynamo.config.verbose=True for more information\n",
      "\n",
      "\n",
      "[2023-02-26 15:48:40,189] torch._dynamo.convert_frame: [ERROR] WON'T CONVERT forward /Users/theodorjonsson/opt/anaconda3/envs/pt/lib/python3.9/site-packages/torchvision/models/resnet.py line 89 \n",
      "due to: \n",
      "Traceback (most recent call last):\n",
      "  File \"/Users/theodorjonsson/opt/anaconda3/envs/pt/lib/python3.9/site-packages/torch/_inductor/codecache.py\", line 576, in load\n",
      "    from filelock import FileLock\n",
      "ModuleNotFoundError: No module named 'filelock'\n",
      "\n",
      "The above exception was the direct cause of the following exception:\n",
      "\n",
      "Traceback (most recent call last):\n",
      "  File \"/Users/theodorjonsson/opt/anaconda3/envs/pt/lib/python3.9/site-packages/torch/_dynamo/output_graph.py\", line 713, in call_user_compiler\n",
      "    raise BackendCompilerFailed(self.compiler_fn, e) from e\n",
      "torch._dynamo.exc.BackendCompilerFailed: debug_wrapper raised ModuleNotFoundError: No module named 'filelock'\n",
      "\n",
      "Set torch._dynamo.config.verbose=True for more information\n",
      "\n",
      "\n"
     ]
    },
    {
     "name": "stdout",
     "output_type": "stream",
     "text": [
      "The slowest run took 4.79 times longer than the fastest. This could mean that an intermediate result is being cached.\n",
      "180 ms ± 109 ms per loop (mean ± std. dev. of 7 runs, 1 loop each)\n"
     ]
    }
   ],
   "source": [
    "%%timeit\n",
    "with T.no_grad():\n",
    "    out = compiled_model(sample_input)"
   ]
  },
  {
   "cell_type": "code",
   "execution_count": 29,
   "metadata": {},
   "outputs": [
    {
     "name": "stdout",
     "output_type": "stream",
     "text": [
      "86.2 ms ± 13.2 ms per loop (mean ± std. dev. of 7 runs, 10 loops each)\n"
     ]
    }
   ],
   "source": [
    "%%timeit\n",
    "with T.no_grad():\n",
    "    out = model(sample_input)"
   ]
  },
  {
   "cell_type": "code",
   "execution_count": null,
   "metadata": {},
   "outputs": [],
   "source": []
  }
 ],
 "metadata": {
  "kernelspec": {
   "display_name": "pt",
   "language": "python",
   "name": "python3"
  },
  "language_info": {
   "codemirror_mode": {
    "name": "ipython",
    "version": 3
   },
   "file_extension": ".py",
   "mimetype": "text/x-python",
   "name": "python",
   "nbconvert_exporter": "python",
   "pygments_lexer": "ipython3",
   "version": "3.9.16"
  },
  "orig_nbformat": 4,
  "vscode": {
   "interpreter": {
    "hash": "6791e3036e5e76b233269e0341b6b548ab9833b1556260499310427eebc9be9e"
   }
  }
 },
 "nbformat": 4,
 "nbformat_minor": 2
}
